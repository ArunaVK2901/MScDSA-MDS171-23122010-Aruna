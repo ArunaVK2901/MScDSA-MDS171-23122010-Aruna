{
 "cells": [
  {
   "cell_type": "code",
   "execution_count": 21,
   "metadata": {},
   "outputs": [],
   "source": [
    "Harmonyville=[] #defining list"
   ]
  },
  {
   "cell_type": "code",
   "execution_count": 22,
   "metadata": {},
   "outputs": [],
   "source": [
    "def name_list():  #defining function\n",
    "    name=input(\"Enter name: \") #user input\n",
    "    name=name.lower()\n",
    "    if name==\"q\": #exit condition\n",
    "        print(Harmonyville)\n",
    "        return()\n",
    "    elif name.isdigit(): #checks if the name consists of only digits\n",
    "        print(\"Invalid name.\")\n",
    "        return()\n",
    "    elif name.isalpha(): #checks if input has only alphabets\n",
    "        for i in Harmonyville:\n",
    "            if name==i: #checks if the name already exists in the list\n",
    "                print(\"Name already exists.\")\n",
    "                return()\n",
    "        else:\n",
    "            Harmonyville.append(name) #adds name to the list\n",
    "            return()\n",
    "    else:\n",
    "        print(\"Invalid name\")\n",
    "        return()"
   ]
  },
  {
   "cell_type": "code",
   "execution_count": 25,
   "metadata": {},
   "outputs": [
    {
     "data": {
      "text/plain": [
       "()"
      ]
     },
     "execution_count": 25,
     "metadata": {},
     "output_type": "execute_result"
    }
   ],
   "source": [
    "name_list() #function call"
   ]
  },
  {
   "cell_type": "code",
   "execution_count": 26,
   "metadata": {},
   "outputs": [
    {
     "name": "stdout",
     "output_type": "stream",
     "text": [
      "Number of names ending with S:  1\n"
     ]
    }
   ],
   "source": [
    "def analyze(a): #defining analyzing function\n",
    "    s_count=0\n",
    "    for i in a:\n",
    "        if i.endswith('s'): #checks if name ends with S\n",
    "            s_count=s_count+1\n",
    "    print(\"Number of names ending with S: \",s_count)\n",
    "analyze(Harmonyville) #function call\n",
    "    "
   ]
  }
 ],
 "metadata": {
  "kernelspec": {
   "display_name": "Python 3",
   "language": "python",
   "name": "python3"
  },
  "language_info": {
   "codemirror_mode": {
    "name": "ipython",
    "version": 3
   },
   "file_extension": ".py",
   "mimetype": "text/x-python",
   "name": "python",
   "nbconvert_exporter": "python",
   "pygments_lexer": "ipython3",
   "version": "3.11.4"
  },
  "orig_nbformat": 4
 },
 "nbformat": 4,
 "nbformat_minor": 2
}
