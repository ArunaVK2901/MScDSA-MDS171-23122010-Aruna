{
 "cells": [
  {
   "cell_type": "code",
   "execution_count": 4,
   "metadata": {},
   "outputs": [],
   "source": [
    "NameList=[] #defining list"
   ]
  },
  {
   "cell_type": "code",
   "execution_count": 5,
   "metadata": {},
   "outputs": [],
   "source": [
    "def name_list():  #defining function\n",
    "    Entry=input(\"Enter name: \") #user input\n",
    "    Entry=Entry.lower()\n",
    "    if Entry==\"q\": #exit condition\n",
    "        print(NameList)\n",
    "        return(\"\")\n",
    "    elif Entry.isdigit(): #checks if the name consists of only digits\n",
    "        print(\"Invalid name.\")\n",
    "        return(\"\")\n",
    "    elif Entry.isalpha(): #checks if input has only alphabets\n",
    "        for i in NameList:\n",
    "            if Entry==i: #checks if the name already exists \n",
    "                print(\"Name already exists.\")\n",
    "                return(\"\")\n",
    "        else:\n",
    "            NameList.append(Entry) #adds name to the list\n",
    "            return(\"\")\n",
    "    else:\n",
    "        print(\"Invalid name\")\n",
    "        return(\"\")"
   ]
  },
  {
   "cell_type": "code",
   "execution_count": 12,
   "metadata": {},
   "outputs": [
    {
     "name": "stdout",
     "output_type": "stream",
     "text": [
      "['aruna', 'parnavi', 'aparna', 'suhas']\n"
     ]
    },
    {
     "data": {
      "text/plain": [
       "''"
      ]
     },
     "execution_count": 12,
     "metadata": {},
     "output_type": "execute_result"
    }
   ],
   "source": [
    "name_list() #function call"
   ]
  },
  {
   "cell_type": "code",
   "execution_count": 13,
   "metadata": {},
   "outputs": [
    {
     "name": "stdout",
     "output_type": "stream",
     "text": [
      "Number of names ending with S:  1\n"
     ]
    }
   ],
   "source": [
    "def analyze(a): #defining analyzing function\n",
    "    s_count=0\n",
    "    for i in a:\n",
    "        if i.endswith('s'): #checks if name ends with S\n",
    "            s_count=s_count+1\n",
    "    print(\"Number of names ending with S: \",s_count)\n",
    "analyze(NameList) #function call\n",
    "    "
   ]
  }
 ],
 "metadata": {
  "kernelspec": {
   "display_name": "Python 3",
   "language": "python",
   "name": "python3"
  },
  "language_info": {
   "codemirror_mode": {
    "name": "ipython",
    "version": 3
   },
   "file_extension": ".py",
   "mimetype": "text/x-python",
   "name": "python",
   "nbconvert_exporter": "python",
   "pygments_lexer": "ipython3",
   "version": "3.11.4"
  },
  "orig_nbformat": 4
 },
 "nbformat": 4,
 "nbformat_minor": 2
}
