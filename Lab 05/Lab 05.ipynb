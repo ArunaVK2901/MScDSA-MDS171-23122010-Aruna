{
 "cells": [
  {
   "cell_type": "markdown",
   "metadata": {},
   "source": [
    "### Mix and Match Calculator"
   ]
  },
  {
   "cell_type": "code",
   "execution_count": 59,
   "metadata": {},
   "outputs": [],
   "source": [
    "import random"
   ]
  },
  {
   "cell_type": "code",
   "execution_count": 60,
   "metadata": {},
   "outputs": [],
   "source": [
    "foodItems = ['Apple', 'Mango', 'Banana', 'Milk', 'Curd', 'Rice', 'Sugar', 'Salt', 'Bread', 'Biscuits']\n",
    "quantity = [2, 3, 5, 4, 1, 8, 5, 4, 2, 10]\n",
    "price = [20, 10, 30, 40, 10, 20, 30, 40, 30, 60]\n",
    "rows = []"
   ]
  },
  {
   "cell_type": "code",
   "execution_count": 64,
   "metadata": {},
   "outputs": [],
   "source": [
    "with open(\"23122010.txt\", \"w\") as file:\n",
    "    file.write(\"Item,Quantity,Price,TotalCost\\n\")\n",
    "\n",
    "    for i in range(100):\n",
    "        item1 = random.choice(foodItems)\n",
    "        quantity1 = random.randint(1, 10)\n",
    "        price1 = round(random.random() * 9 + 1, 2)  # Generate a random float between 1 and 10\n",
    "        totalCost1 = round(quantity1 * price1, 2)\n",
    "        file.write(f\"{item1},{quantity1},{price1},{totalCost1}\\n\")\n",
    "        rows.append([item1, quantity1, price1, totalCost1])"
   ]
  },
  {
   "cell_type": "code",
   "execution_count": 65,
   "metadata": {},
   "outputs": [],
   "source": [
    "ItemInfo = {}\n",
    "for row in rows:\n",
    "    item1, quantity1, price1, totalCost1 = row\n",
    "    if item1 not in ItemInfo:  # Corrected the condition to check if the item is not in the dictionary\n",
    "        ItemInfo[item1] = {\"Total Quantity\": 0, \"Total Cost\": 0, \"Prices\": []}\n",
    "    ItemInfo[item1][\"Total Quantity\"] += quantity1\n",
    "    ItemInfo[item1][\"Total Cost\"] += totalCost1\n",
    "    ItemInfo[item1][\"Prices\"].append(price1)"
   ]
  },
  {
   "cell_type": "code",
   "execution_count": 66,
   "metadata": {},
   "outputs": [
    {
     "name": "stdout",
     "output_type": "stream",
     "text": [
      "Results for the first 5 rows:\n",
      "Item: Apple, Quantity: 107, Total Cost: 514.39\n",
      "Item: Rice, Quantity: 85, Total Cost: 458.3299999999999\n",
      "Item: Mango, Quantity: 100, Total Cost: 648.89\n",
      "Item: Salt, Quantity: 131, Total Cost: 696.05\n",
      "Item: Bread, Quantity: 137, Total Cost: 666.4800000000001\n",
      "\n",
      "Results for the last 10 rows:\n",
      "Item: Apple, Quantity: 107, Total Cost: 514.39\n",
      "Item: Rice, Quantity: 85, Total Cost: 458.3299999999999\n",
      "Item: Mango, Quantity: 100, Total Cost: 648.89\n",
      "Item: Salt, Quantity: 131, Total Cost: 696.05\n",
      "Item: Bread, Quantity: 137, Total Cost: 666.4800000000001\n",
      "Item: Milk, Quantity: 108, Total Cost: 737.76\n",
      "Item: Banana, Quantity: 119, Total Cost: 643.98\n",
      "Item: Sugar, Quantity: 129, Total Cost: 761.3599999999999\n",
      "Item: Biscuits, Quantity: 82, Total Cost: 386.75\n",
      "Item: Curd, Quantity: 109, Total Cost: 725.21\n",
      "\n",
      "Total cost for each unique item:\n",
      "Item Name: Apple, Total Quantity: 107, Total Cost: 514.39\n",
      "Item Name: Rice, Total Quantity: 85, Total Cost: 458.3299999999999\n",
      "Item Name: Mango, Total Quantity: 100, Total Cost: 648.89\n",
      "Item Name: Salt, Total Quantity: 131, Total Cost: 696.05\n",
      "Item Name: Bread, Total Quantity: 137, Total Cost: 666.4800000000001\n",
      "Item Name: Milk, Total Quantity: 108, Total Cost: 737.76\n",
      "Item Name: Banana, Total Quantity: 119, Total Cost: 643.98\n",
      "Item Name: Sugar, Total Quantity: 129, Total Cost: 761.3599999999999\n",
      "Item Name: Biscuits, Total Quantity: 82, Total Cost: 386.75\n",
      "Item Name: Curd, Total Quantity: 109, Total Cost: 725.21\n",
      "\n",
      "Minimum and Maximum Prices for Each Item Sold:\n",
      "Item: Apple, Min Price: 1.18, Max Price: 8.86\n",
      "Item: Rice, Min Price: 1.19, Max Price: 9.59\n",
      "Item: Mango, Min Price: 2.88, Max Price: 9.68\n",
      "Item: Salt, Min Price: 1.41, Max Price: 9.94\n",
      "Item: Bread, Min Price: 1.13, Max Price: 9.81\n",
      "Item: Milk, Min Price: 2.59, Max Price: 9.75\n",
      "Item: Banana, Min Price: 1.85, Max Price: 9.97\n",
      "Item: Sugar, Min Price: 1.37, Max Price: 9.43\n",
      "Item: Biscuits, Min Price: 1.1, Max Price: 9.77\n",
      "Item: Curd, Min Price: 2.87, Max Price: 9.87\n"
     ]
    }
   ],
   "source": [
    "print(\"Results for the first 5 rows:\")\n",
    "for item, data in list(ItemInfo.items())[:5]:\n",
    "    print(f\"Item: {item}, Quantity: {data['Total Quantity']}, Total Cost: {data['Total Cost']}\")\n",
    "\n",
    "print(\"\\nResults for the last 10 rows:\")\n",
    "for item, data in list(ItemInfo.items())[-10:]:\n",
    "    print(f\"Item: {item}, Quantity: {data['Total Quantity']}, Total Cost: {data['Total Cost']}\")\n",
    "\n",
    "print(\"\\nTotal cost for each unique item:\")\n",
    "for item, data in ItemInfo.items():\n",
    "    print(f\"Item Name: {item}, Total Quantity: {data['Total Quantity']}, Total Cost: {data['Total Cost']}\")\n",
    "\n",
    "print(\"\\nMinimum and Maximum Prices for Each Item Sold:\")\n",
    "for item, data in ItemInfo.items():\n",
    "    minimumPrice = min(data[\"Prices\"])\n",
    "    maximumPrice = max(data[\"Prices\"])\n",
    "    print(f\"Item: {item}, Min Price: {minimumPrice}, Max Price: {maximumPrice}\")"
   ]
  }
 ],
 "metadata": {
  "kernelspec": {
   "display_name": "Python 3",
   "language": "python",
   "name": "python3"
  },
  "language_info": {
   "codemirror_mode": {
    "name": "ipython",
    "version": 3
   },
   "file_extension": ".py",
   "mimetype": "text/x-python",
   "name": "python",
   "nbconvert_exporter": "python",
   "pygments_lexer": "ipython3",
   "version": "3.11.4"
  },
  "orig_nbformat": 4
 },
 "nbformat": 4,
 "nbformat_minor": 2
}
