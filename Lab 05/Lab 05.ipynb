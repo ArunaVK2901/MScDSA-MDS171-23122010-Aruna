{
 "cells": [
  {
   "cell_type": "markdown",
   "metadata": {},
   "source": [
    "### Mix and Match Calculator"
   ]
  },
  {
   "cell_type": "code",
   "execution_count": 59,
   "metadata": {},
   "outputs": [],
   "source": [
    "import random  #imports random library"
   ]
  },
  {
   "cell_type": "code",
   "execution_count": 60,
   "metadata": {},
   "outputs": [],
   "source": [
    "foodItems = ['Apple', 'Mango', 'Banana', 'Milk', 'Curd', 'Rice', 'Sugar', 'Salt', 'Bread', 'Biscuits']   #initializing lists\n",
    "quantity = [2, 3, 5, 4, 1, 8, 5, 4, 2, 10]\n",
    "price = [20, 10, 30, 40, 10, 20, 30, 40, 30, 60]\n",
    "rows = []"
   ]
  },
  {
   "cell_type": "code",
   "execution_count": 70,
   "metadata": {},
   "outputs": [],
   "source": [
    "with open(\"23122010.txt\", \"w\") as file:            #creates a file named 23122010.txt\n",
    "    file.write(\"Item,Quantity,Price,TotalCost\\n\")\n",
    "\n",
    "    for i in range(1,100):                      #writing to file\n",
    "        item1 = random.choice(foodItems)\n",
    "        quantity1 = random.randint(1, 10)\n",
    "        price1 = round(random.random() * 9 + 1, 2)  #generates a random float between 1 and 10\n",
    "        totalCost1 = round(quantity1 * price1, 2)\n",
    "        file.write(f\"{item1},{quantity1},{price1},{totalCost1}\\n\")\n",
    "        rows.append([item1, quantity1, price1, totalCost1])"
   ]
  },
  {
   "cell_type": "code",
   "execution_count": 71,
   "metadata": {},
   "outputs": [],
   "source": [
    "ItemInfo = {}\n",
    "for row in rows:    \n",
    "    item1, quantity1, price1, totalCost1 = row\n",
    "    if item1 not in ItemInfo:  #corrected the condition to check if the item is not in the dictionary\n",
    "        ItemInfo[item1] = {\"Total Quantity\": 0, \"Total Cost\": 0, \"Prices\": []}\n",
    "    ItemInfo[item1][\"Total Quantity\"] += quantity1\n",
    "    ItemInfo[item1][\"Total Cost\"] += totalCost1\n",
    "    ItemInfo[item1][\"Prices\"].append(price1)"
   ]
  },
  {
   "cell_type": "code",
   "execution_count": 72,
   "metadata": {},
   "outputs": [
    {
     "name": "stdout",
     "output_type": "stream",
     "text": [
      "Results for the first 5 rows:\n",
      "Item: Apple, Quantity: 252, Total Cost: 1399.3\n",
      "Item: Rice, Quantity: 234, Total Cost: 1211.4699999999996\n",
      "Item: Mango, Quantity: 186, Total Cost: 1277.9899999999998\n",
      "Item: Salt, Quantity: 277, Total Cost: 1512.7299999999993\n",
      "Item: Bread, Quantity: 260, Total Cost: 1350.8800000000003\n",
      "\n",
      "Results for the last 10 rows:\n",
      "Item: Apple, Quantity: 252, Total Cost: 1399.3\n",
      "Item: Rice, Quantity: 234, Total Cost: 1211.4699999999996\n",
      "Item: Mango, Quantity: 186, Total Cost: 1277.9899999999998\n",
      "Item: Salt, Quantity: 277, Total Cost: 1512.7299999999993\n",
      "Item: Bread, Quantity: 260, Total Cost: 1350.8800000000003\n",
      "Item: Milk, Quantity: 188, Total Cost: 1131.56\n",
      "Item: Banana, Quantity: 219, Total Cost: 1280.16\n",
      "Item: Sugar, Quantity: 204, Total Cost: 1123.6000000000001\n",
      "Item: Biscuits, Quantity: 145, Total Cost: 783.8800000000001\n",
      "Item: Curd, Quantity: 235, Total Cost: 1417.66\n",
      "\n",
      "Total cost for each unique item:\n",
      "Item Name: Apple, Total Quantity: 252, Total Cost: 1399.3\n",
      "Item Name: Rice, Total Quantity: 234, Total Cost: 1211.4699999999996\n",
      "Item Name: Mango, Total Quantity: 186, Total Cost: 1277.9899999999998\n",
      "Item Name: Salt, Total Quantity: 277, Total Cost: 1512.7299999999993\n",
      "Item Name: Bread, Total Quantity: 260, Total Cost: 1350.8800000000003\n",
      "Item Name: Milk, Total Quantity: 188, Total Cost: 1131.56\n",
      "Item Name: Banana, Total Quantity: 219, Total Cost: 1280.16\n",
      "Item Name: Sugar, Total Quantity: 204, Total Cost: 1123.6000000000001\n",
      "Item Name: Biscuits, Total Quantity: 145, Total Cost: 783.8800000000001\n",
      "Item Name: Curd, Total Quantity: 235, Total Cost: 1417.66\n",
      "\n",
      "Minimum and Maximum Prices for Each Item Sold:\n",
      "Item: Apple, Min Price: 1.18, Max Price: 9.98\n",
      "Item: Rice, Min Price: 1.19, Max Price: 9.73\n",
      "Item: Mango, Min Price: 2.88, Max Price: 9.8\n",
      "Item: Salt, Min Price: 1.36, Max Price: 9.94\n",
      "Item: Bread, Min Price: 1.13, Max Price: 9.81\n",
      "Item: Milk, Min Price: 1.03, Max Price: 9.95\n",
      "Item: Banana, Min Price: 1.0, Max Price: 9.98\n",
      "Item: Sugar, Min Price: 1.06, Max Price: 9.96\n",
      "Item: Biscuits, Min Price: 1.1, Max Price: 9.77\n",
      "Item: Curd, Min Price: 1.28, Max Price: 9.87\n"
     ]
    }
   ],
   "source": [
    "print(\"Results for the first 5 rows:\")           #prints results\n",
    "for item, data in list(ItemInfo.items())[:5]:\n",
    "    print(f\"Item: {item}, Quantity: {data['Total Quantity']}, Total Cost: {data['Total Cost']}\")\n",
    "\n",
    "print(\"\\nResults for the last 10 rows:\")\n",
    "for item, data in list(ItemInfo.items())[-10:]:\n",
    "    print(f\"Item: {item}, Quantity: {data['Total Quantity']}, Total Cost: {data['Total Cost']}\")\n",
    "\n",
    "print(\"\\nTotal cost for each unique item:\")\n",
    "for item, data in ItemInfo.items():\n",
    "    print(f\"Item Name: {item}, Total Quantity: {data['Total Quantity']}, Total Cost: {data['Total Cost']}\")\n",
    "\n",
    "print(\"\\nMinimum and Maximum Prices for Each Item Sold:\")\n",
    "for item, data in ItemInfo.items():\n",
    "    minimumPrice = min(data[\"Prices\"])\n",
    "    maximumPrice = max(data[\"Prices\"])\n",
    "    print(f\"Item: {item}, Min Price: {minimumPrice}, Max Price: {maximumPrice}\")"
   ]
  }
 ],
 "metadata": {
  "kernelspec": {
   "display_name": "Python 3",
   "language": "python",
   "name": "python3"
  },
  "language_info": {
   "codemirror_mode": {
    "name": "ipython",
    "version": 3
   },
   "file_extension": ".py",
   "mimetype": "text/x-python",
   "name": "python",
   "nbconvert_exporter": "python",
   "pygments_lexer": "ipython3",
   "version": "3.11.4"
  },
  "orig_nbformat": 4
 },
 "nbformat": 4,
 "nbformat_minor": 2
}
