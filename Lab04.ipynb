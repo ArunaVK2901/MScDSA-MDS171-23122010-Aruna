{
 "cells": [
  {
   "cell_type": "markdown",
   "metadata": {},
   "source": [
    "## A Taste of Success: The Restaurant Management System"
   ]
  },
  {
   "cell_type": "code",
   "execution_count": 21,
   "metadata": {},
   "outputs": [],
   "source": [
    "fileOrder=open(\"Order.txt\",\"w+\")   #Opens a file\n",
    "fileOrder.write(\"Today's orders: \\n\")   #Removes old entries\n",
    "fileOrder.close()   #Closes a file"
   ]
  },
  {
   "cell_type": "code",
   "execution_count": 22,
   "metadata": {},
   "outputs": [],
   "source": [
    "def culinaryDelights(name,item,price,quantity):  #Creates a function to take inputs\n",
    "    fileNewOrder=open(\"Order.txt\",\"a+\")      #Opens a file to add elements into the file\n",
    "    fileNewOrder.write(\"\\nName\\t:\\t\"+name)\n",
    "    fileNewOrder.write(\"\\nItem\\t:\\t\"+item)\n",
    "    fileNewOrder.write(\"\\nPrice\\t:\\t\"+price)\n",
    "    fileNewOrder.write(\"\\nQuantity\\t:\"+quantity)\n",
    "    fileNewOrder.close()\n",
    "    return True"
   ]
  },
  {
   "cell_type": "code",
   "execution_count": 25,
   "metadata": {},
   "outputs": [
    {
     "name": "stdout",
     "output_type": "stream",
     "text": [
      "Your details are saved!\n"
     ]
    }
   ],
   "source": [
    "name=input(\"Enter your Name: \")\n",
    "item=input(\"Enter your item: \")\n",
    "price=input(\"Price: \")\n",
    "quantity=input(\"Enter Quantity: \")\n",
    "ret=culinaryDelights(name,item,price,quantity)  #creates a variable to store returned statement\n",
    "if ret:\n",
    "    print(\"Your details are saved!\")\n",
    "else:\n",
    "    print(\"Some error occured.\")"
   ]
  },
  {
   "cell_type": "code",
   "execution_count": 27,
   "metadata": {},
   "outputs": [
    {
     "name": "stdout",
     "output_type": "stream",
     "text": [
      "The total quantity is:  9\n"
     ]
    }
   ],
   "source": [
    "orderAnalysis=open(\"Order.txt\",\"r+\")\n",
    "Lines=orderAnalysis.readlines()  # all the lines are stored as a list in Lines\n",
    "total=0    #Defines a variable to store the total quantity\n",
    "for i in Lines:  #Loop to find Quantity in the list\n",
    "    if \"Quantity\" in i:\n",
    "        j=i.split(\":\")\n",
    "        n=int(j[1])  #Typecasting quality string into integer\n",
    "        total+=n\n",
    "print(\"The total quantity is: \",total)  #Prints out the total quantity of items ordered"
   ]
  }
 ],
 "metadata": {
  "kernelspec": {
   "display_name": "Python 3",
   "language": "python",
   "name": "python3"
  },
  "language_info": {
   "codemirror_mode": {
    "name": "ipython",
    "version": 3
   },
   "file_extension": ".py",
   "mimetype": "text/x-python",
   "name": "python",
   "nbconvert_exporter": "python",
   "pygments_lexer": "ipython3",
   "version": "3.11.4"
  },
  "orig_nbformat": 4
 },
 "nbformat": 4,
 "nbformat_minor": 2
}
