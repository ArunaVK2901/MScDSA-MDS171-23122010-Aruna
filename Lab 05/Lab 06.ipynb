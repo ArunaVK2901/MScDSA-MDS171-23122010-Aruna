{
 "cells": [
  {
   "cell_type": "markdown",
   "metadata": {},
   "source": [
    "## Vowel Counter"
   ]
  },
  {
   "cell_type": "code",
   "execution_count": 46,
   "metadata": {},
   "outputs": [],
   "source": [
    "def vowel_counter():    # Function to count the number of vowels and percentage of vowels in the string\n",
    "    str1=input(\"Enter a string: \")   # Takes input from user\n",
    "    str1=str1.lower()   # Converts string into lowercase\n",
    "    print(str1)\n",
    "    vowel=[\"a\",\"e\",\"i\",\"o\",\"u\"]\n",
    "    vow_count=0\n",
    "    a_count=0\n",
    "    e_count=0\n",
    "    i_count=0\n",
    "    o_count=0\n",
    "    u_count=0\n",
    "    counter=0\n",
    "    vow_perc=0\n",
    "    for t in str1:   # for loop to count the number of each vowel and total vowels in the string\n",
    "        counter+=1\n",
    "        if t=='a':\n",
    "            a_count+=1\n",
    "        elif t=='e':\n",
    "            e_count+=1\n",
    "        elif t=='i':\n",
    "            i_count+=1\n",
    "        elif t=='o':\n",
    "            o_count+=1\n",
    "        elif t=='u':\n",
    "            u_count+=1\n",
    "        if t in vowel:\n",
    "            vow_count+=1\n",
    "    print(\"Total no. of vowels: \",vow_count)\n",
    "    print(\"A: \",a_count)\n",
    "    print(\"E: \",e_count)\n",
    "    print(\"I: \",i_count)\n",
    "    print(\"O: \",o_count)\n",
    "    print(\"U: \",u_count)\n",
    "    vow_perc=(vow_count/counter)*100      # Calculates the percentage of vowels in the string\n",
    "    print(\"Percentage of vowels in the string: \",vow_perc)"
   ]
  },
  {
   "cell_type": "code",
   "execution_count": 47,
   "metadata": {},
   "outputs": [
    {
     "name": "stdout",
     "output_type": "stream",
     "text": [
      "aruna vijaykumar\n",
      "Total no. of vowels:  7\n",
      "A:  4\n",
      "E:  0\n",
      "I:  1\n",
      "O:  0\n",
      "U:  2\n",
      "Percentage of vowels in the string:  43.75\n"
     ]
    }
   ],
   "source": [
    "vowel_counter()   # Function call"
   ]
  }
 ],
 "metadata": {
  "kernelspec": {
   "display_name": "Python 3",
   "language": "python",
   "name": "python3"
  },
  "language_info": {
   "codemirror_mode": {
    "name": "ipython",
    "version": 3
   },
   "file_extension": ".py",
   "mimetype": "text/x-python",
   "name": "python",
   "nbconvert_exporter": "python",
   "pygments_lexer": "ipython3",
   "version": "3.11.4"
  },
  "orig_nbformat": 4
 },
 "nbformat": 4,
 "nbformat_minor": 2
}
