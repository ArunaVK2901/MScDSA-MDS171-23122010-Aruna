{
 "cells": [
  {
   "cell_type": "code",
   "execution_count": 2,
   "metadata": {},
   "outputs": [],
   "source": [
    "## My Menu Driven Restaurant"
   ]
  },
  {
   "cell_type": "code",
   "execution_count": 3,
   "metadata": {},
   "outputs": [],
   "source": [
    "import random\n",
    "\n",
    "# Predefiining menu items and price\n",
    "menu = {\"1\": {\"item\": \"Dosa\", \"price\": 250},\"2\": {\"item\": \"Idli\", \"price\": 200},\"3\": {\"item\": \"Sambar wada\", \"price\": 100},\"4\": {\"item\": \"Pongal\", \"price\": 150},\"5\": {\"item\": \"Poha\", \"price\": 80},\"6\": {\"item\":\"Upma\",\"price\":170}}\n",
    "orders = {}"
   ]
  },
  {
   "cell_type": "code",
   "execution_count": 4,
   "metadata": {},
   "outputs": [],
   "source": [
    "def generateOrderId():   # Generates a unique orderID using 5 random numbers\n",
    "    s=''\n",
    "    for i in range(1,6):\n",
    "        s=s+str(random.randint(0,9))\n",
    "    return s"
   ]
  },
  {
   "cell_type": "code",
   "execution_count": 5,
   "metadata": {},
   "outputs": [],
   "source": [
    "def createNewOrder():   # Takes in new order\n",
    "    order_id = generateOrderId()\n",
    "    items = {}\n",
    "\n",
    "    while True:\n",
    "        item_no = input(\"Enter the item number to order (or 'done' to finish): \")\n",
    "        \n",
    "        if item_no == 'done':\n",
    "            break    # Stops taking order\n",
    "        \n",
    "        if item_no in menu:\n",
    "            quantity = int(input(f\"Enter the quantity for {menu[item_no]['item']}: \"))\n",
    "            if item_no in items:\n",
    "                items[item_no]['quantity'] += quantity\n",
    "            else:\n",
    "                items[item_no] = {'item': menu[item_no]['item'], 'quantity': quantity}\n",
    "        else:\n",
    "            print(\"Invalid item number. Please select a valid item.\")\n",
    "    \n",
    "    orders[order_id] = items\n",
    "    \n",
    "    print(f\"Order {order_id} created!\")"
   ]
  },
  {
   "cell_type": "code",
   "execution_count": 6,
   "metadata": {},
   "outputs": [],
   "source": [
    "def viewOrders():\n",
    "    for i, j in orders.items():\n",
    "        print(f\"Order {i}:\")    # Extracts the order details under the respective order ids\n",
    "        total_order_value = 0\n",
    "        \n",
    "        for k, l in j.items():     #Under item names and its respective quantity, multiplies the quantity with price\n",
    "            item_name = l['item']\n",
    "            quantity = l['quantity']\n",
    "            price = menu[k]['price']\n",
    "            item_total = price * quantity\n",
    "            print(f\"{item_name}: {quantity} x Rs.{price} = Rs.{item_total}\")\n",
    "            total_order_value += item_total\n",
    "        \n",
    "        print(f\"Total Order Value: Rs.{total_order_value}\")\n",
    "        print(\"\\n\")\n",
    "        print(\"_\"*30)"
   ]
  },
  {
   "cell_type": "code",
   "execution_count": 7,
   "metadata": {},
   "outputs": [
    {
     "name": "stdout",
     "output_type": "stream",
     "text": [
      "Menu:\n",
      "______________________________\n",
      "1: Dosa - Rs.250\n",
      "2: Idli - Rs.200\n",
      "3: Sambar wada - Rs.100\n",
      "4: Pongal - Rs.150\n",
      "5: Poha - Rs.80\n",
      "6: Upma - Rs.170\n",
      "______________________________\n",
      "\n",
      "\n",
      "Options:\n",
      "1. Take order\n",
      "2. View Orders\n",
      "3. Exit\n",
      "______________________________\n",
      "\n",
      "\n",
      "choice entered :  1\n",
      "\n",
      "\n",
      "Order 35209 created!\n",
      "__________________________________________________\n",
      "choice entered :  2\n",
      "\n",
      "\n",
      "Order 35209:\n",
      "Dosa: 2 x Rs.250 = Rs.500\n",
      "Idli: 3 x Rs.200 = Rs.600\n",
      "Total Order Value: Rs.1100\n",
      "\n",
      "\n",
      "______________________________\n",
      "__________________________________________________\n",
      "choice entered :  3\n",
      "\n",
      "\n",
      "______________________________\n"
     ]
    }
   ],
   "source": [
    "print(\"Menu:\")    # Main menu\n",
    "print(\"_\"*30)\n",
    "for key, value in menu.items():    # Menu has keys as the item numbers and their respective values as item name and their prices\n",
    "    print(f\"{key}: {value['item']} - Rs.{value['price']}\")\n",
    "print(\"_\"*30)\n",
    "print(\"\\n\")\n",
    "\n",
    "print(\"Options:\")\n",
    "print(\"1. Take order\")\n",
    "print(\"2. View Orders\")\n",
    "print(\"3. Exit\")\n",
    "print(\"_\"*30)\n",
    "print(\"\\n\")\n",
    "while True:\n",
    "    \n",
    "    choice = input(\"Enter your choice: \")\n",
    "   \n",
    "    print(\"choice entered : \", choice)\n",
    "    print(\"\\n\")\n",
    "    if choice == \"1\":\n",
    "        createNewOrder()\n",
    "        print(\"_\"*50)\n",
    "    elif choice == \"2\":\n",
    "        viewOrders()\n",
    "        print(\"_\"*50)\n",
    "    elif choice == \"3\":\n",
    "        break\n",
    "    else:\n",
    "        print(\"Invalid choice. Please select a valid option.\")\n",
    "print(\"_\"*30)"
   ]
  }
 ],
 "metadata": {
  "kernelspec": {
   "display_name": "Python 3",
   "language": "python",
   "name": "python3"
  },
  "language_info": {
   "codemirror_mode": {
    "name": "ipython",
    "version": 3
   },
   "file_extension": ".py",
   "mimetype": "text/x-python",
   "name": "python",
   "nbconvert_exporter": "python",
   "pygments_lexer": "ipython3",
   "version": "3.11.4"
  },
  "orig_nbformat": 4
 },
 "nbformat": 4,
 "nbformat_minor": 2
}
