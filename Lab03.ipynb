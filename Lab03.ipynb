{
 "cells": [
  {
   "cell_type": "markdown",
   "metadata": {},
   "source": [
    "The Tale of Numbers' Harmony"
   ]
  },
  {
   "cell_type": "code",
   "execution_count": 47,
   "metadata": {},
   "outputs": [],
   "source": [
    "lst=[761, 123, 585, 275, 194, 840, 999, 622, 763, 40, 825, 687, 402, 338, 611, 987, 739, 95, 819, 568, 320, 126, 688, 948, 514, 223, 751, 379, 857, 767, 492, 162, 437, 934, 430, 343, 725, 511, 580, 678, 708, 823, 346, 179, 786, 663, 195, 890, 267, 502, 214, 300, 786, 961, 235, 559, 992, 919, 948, 318, 57, 787, 653, 317, 305, 172, 966, 182, 970, 17, 89, 624, 629, 595, 485, 752, 984, 978, 460, 124, 321, 256, 614, 852, 811, 561, 127, 207, 406, 615, 888, 391, 691, 470, 911, 401, 137, 600, 478, 682]"
   ]
  },
  {
   "cell_type": "code",
   "execution_count": 62,
   "metadata": {},
   "outputs": [],
   "source": [
    "def average(lst):\n",
    "    sum1=0\n",
    "    count=0\n",
    "    for i in lst:\n",
    "        sum1=sum1+i\n",
    "        count+=1\n",
    "    avg=sum1/count\n",
    "    return avg\n",
    "\n",
    "def minimum(lst):\n",
    "    min1=lst[0]\n",
    "    for i in lst:\n",
    "        if i<min1:\n",
    "            min1=i\n",
    "    return min1\n",
    "\n",
    "def maximum(lst):\n",
    "    max1=lst[0]\n",
    "    for i in lst:\n",
    "        if i>max1:\n",
    "            max1=i\n",
    "    return max1\n",
    "\n",
    "def range1(lst):\n",
    "    min2=minimum(lst)\n",
    "    max2=maximum(lst)\n",
    "    range2=max2-min2\n",
    "    return range2"
   ]
  },
  {
   "cell_type": "code",
   "execution_count": 63,
   "metadata": {},
   "outputs": [
    {
     "name": "stdout",
     "output_type": "stream",
     "text": [
      "Mean:  542.94\n",
      "Minimum no.:  17\n",
      "Maximum no.:  999\n",
      "Range:  982\n"
     ]
    }
   ],
   "source": [
    "average(lst)\n",
    "minimum(lst)\n",
    "maximum(lst)\n",
    "range1(lst)\n",
    "print(\"Mean: \",average(lst))\n",
    "print(\"Minimum no.: \",minimum(lst))\n",
    "print(\"Maximum no.: \",maximum(lst))\n",
    "print(\"Range: \",range(lst))"
   ]
  },
  {
   "cell_type": "code",
   "execution_count": 72,
   "metadata": {},
   "outputs": [],
   "source": [
    "import statistics\n",
    "def check(lst):\n",
    "    Average=statistics.mean(lst)\n",
    "    Min_no=min(lst)\n",
    "    Max_no=max(lst)\n",
    "    Range1=range(lst)\n",
    "\n",
    "    if Average==average(lst):\n",
    "        print(\"Mean is correct.\")\n",
    "    else:\n",
    "        print(\"Incorrect mean.\")\n",
    "\n",
    "    if Min_no==minimum(lst):\n",
    "        print(\"Minimum no. is correct.\")\n",
    "    else:\n",
    "        print(\"Incorrect Min no.\")\n",
    "\n",
    "    if Max_no==maximum(lst):\n",
    "        print(\"Maximum no. is correct.\")\n",
    "    else:\n",
    "        print(\"Incorrect Max no.\")\n",
    "\n",
    "    if Range1==range(lst):\n",
    "        print(\"Range is correct.\")\n",
    "    else:\n",
    "        print(\"Incorrect Range.\")"
   ]
  },
  {
   "cell_type": "code",
   "execution_count": 73,
   "metadata": {},
   "outputs": [
    {
     "name": "stdout",
     "output_type": "stream",
     "text": [
      "Mean is correct.\n",
      "Minimum no. is correct.\n",
      "Maximum no. is correct.\n",
      "Range is correct.\n"
     ]
    }
   ],
   "source": [
    "check(lst)"
   ]
  }
 ],
 "metadata": {
  "kernelspec": {
   "display_name": "Python 3",
   "language": "python",
   "name": "python3"
  },
  "language_info": {
   "codemirror_mode": {
    "name": "ipython",
    "version": 3
   },
   "file_extension": ".py",
   "mimetype": "text/x-python",
   "name": "python",
   "nbconvert_exporter": "python",
   "pygments_lexer": "ipython3",
   "version": "3.11.4"
  },
  "orig_nbformat": 4
 },
 "nbformat": 4,
 "nbformat_minor": 2
}
